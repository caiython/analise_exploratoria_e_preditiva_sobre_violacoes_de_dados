{
 "cells": [
  {
   "cell_type": "markdown",
   "id": "f0015c4c",
   "metadata": {},
   "source": [
    "# Análise Exploratória de Violações de Dados"
   ]
  },
  {
   "cell_type": "markdown",
   "id": "99fc2b85",
   "metadata": {},
   "source": [
    "# Introdução"
   ]
  },
  {
   "cell_type": "markdown",
   "id": "9c1df421",
   "metadata": {},
   "source": [
    "Olá. Meu nome é Caio.\n",
    "\n",
    "Está é a minha primeira análise de dados documentada.\n",
    "\n",
    "Estarei analisando um dataset que contém uma compilação de dados de diversas fontes diferentes sobre violações de dados de empresas.\n",
    "\n",
    "Fonte: Kaggle (https://www.kaggle.com/datasets/thedevastator/data-breaches-a-comprehensive-list)\n",
    "\n",
    "Sou mente aberta, então sinta-se livre para realizar críticas construtivas.\n",
    "\n",
    "Boa leitura! :)"
   ]
  },
  {
   "cell_type": "markdown",
   "id": "70434c07",
   "metadata": {},
   "source": [
    "# Bibliotecas"
   ]
  },
  {
   "cell_type": "markdown",
   "id": "6f98593a",
   "metadata": {},
   "source": [
    "Estarei utilizando as bibliotecas\n",
    "* pandas\n",
    "* numpy\n",
    "* matplotlib\n",
    "* seaborn\n",
    "* re"
   ]
  },
  {
   "cell_type": "code",
   "execution_count": 213,
   "id": "579d0256",
   "metadata": {},
   "outputs": [],
   "source": [
    "import pandas as pd\n",
    "import numpy as np\n",
    "import matplotlib.pyplot as plt\n",
    "import seaborn as sns\n",
    "import re"
   ]
  },
  {
   "cell_type": "markdown",
   "id": "0cf8a137",
   "metadata": {},
   "source": [
    "# DataSet"
   ]
  },
  {
   "cell_type": "code",
   "execution_count": 215,
   "id": "2a515ddd",
   "metadata": {},
   "outputs": [
    {
     "data": {
      "text/html": [
       "<div>\n",
       "<style scoped>\n",
       "    .dataframe tbody tr th:only-of-type {\n",
       "        vertical-align: middle;\n",
       "    }\n",
       "\n",
       "    .dataframe tbody tr th {\n",
       "        vertical-align: top;\n",
       "    }\n",
       "\n",
       "    .dataframe thead th {\n",
       "        text-align: right;\n",
       "    }\n",
       "</style>\n",
       "<table border=\"1\" class=\"dataframe\">\n",
       "  <thead>\n",
       "    <tr style=\"text-align: right;\">\n",
       "      <th></th>\n",
       "      <th>Unnamed: 0</th>\n",
       "      <th>Entity</th>\n",
       "      <th>Year</th>\n",
       "      <th>Records</th>\n",
       "      <th>Organization type</th>\n",
       "      <th>Method</th>\n",
       "      <th>Sources</th>\n",
       "    </tr>\n",
       "  </thead>\n",
       "  <tbody>\n",
       "    <tr>\n",
       "      <th>0</th>\n",
       "      <td>0</td>\n",
       "      <td>21st Century Oncology</td>\n",
       "      <td>2016</td>\n",
       "      <td>2200000</td>\n",
       "      <td>healthcare</td>\n",
       "      <td>hacked</td>\n",
       "      <td>[5][6]</td>\n",
       "    </tr>\n",
       "    <tr>\n",
       "      <th>1</th>\n",
       "      <td>1</td>\n",
       "      <td>500px</td>\n",
       "      <td>2020</td>\n",
       "      <td>14870304</td>\n",
       "      <td>social networking</td>\n",
       "      <td>hacked</td>\n",
       "      <td>[7]</td>\n",
       "    </tr>\n",
       "    <tr>\n",
       "      <th>2</th>\n",
       "      <td>2</td>\n",
       "      <td>Accendo Insurance Co.</td>\n",
       "      <td>2020</td>\n",
       "      <td>175350</td>\n",
       "      <td>healthcare</td>\n",
       "      <td>poor security</td>\n",
       "      <td>[8][9]</td>\n",
       "    </tr>\n",
       "    <tr>\n",
       "      <th>3</th>\n",
       "      <td>3</td>\n",
       "      <td>Adobe Systems Incorporated</td>\n",
       "      <td>2013</td>\n",
       "      <td>152000000</td>\n",
       "      <td>tech</td>\n",
       "      <td>hacked</td>\n",
       "      <td>[10]</td>\n",
       "    </tr>\n",
       "    <tr>\n",
       "      <th>4</th>\n",
       "      <td>4</td>\n",
       "      <td>Adobe Inc.</td>\n",
       "      <td>2019</td>\n",
       "      <td>7500000</td>\n",
       "      <td>tech</td>\n",
       "      <td>poor security</td>\n",
       "      <td>[11][12]</td>\n",
       "    </tr>\n",
       "  </tbody>\n",
       "</table>\n",
       "</div>"
      ],
      "text/plain": [
       "   Unnamed: 0                      Entity  Year    Records  Organization type  \\\n",
       "0           0       21st Century Oncology  2016    2200000         healthcare   \n",
       "1           1                       500px  2020   14870304  social networking   \n",
       "2           2       Accendo Insurance Co.  2020     175350         healthcare   \n",
       "3           3  Adobe Systems Incorporated  2013  152000000               tech   \n",
       "4           4                  Adobe Inc.  2019    7500000               tech   \n",
       "\n",
       "          Method   Sources  \n",
       "0         hacked    [5][6]  \n",
       "1         hacked       [7]  \n",
       "2  poor security    [8][9]  \n",
       "3         hacked      [10]  \n",
       "4  poor security  [11][12]  "
      ]
     },
     "execution_count": 215,
     "metadata": {},
     "output_type": "execute_result"
    }
   ],
   "source": [
    "# Carregando data set\n",
    "df = pd.read_csv('data_breaches.csv')\n",
    "\n",
    "# Verificando topo da tabela\n",
    "df.head()"
   ]
  },
  {
   "cell_type": "code",
   "execution_count": 216,
   "id": "414bc33d",
   "metadata": {},
   "outputs": [
    {
     "name": "stdout",
     "output_type": "stream",
     "text": [
      "<class 'pandas.core.frame.DataFrame'>\n",
      "RangeIndex: 352 entries, 0 to 351\n",
      "Data columns (total 7 columns):\n",
      " #   Column             Non-Null Count  Dtype \n",
      "---  ------             --------------  ----- \n",
      " 0   Unnamed: 0         352 non-null    int64 \n",
      " 1   Entity             352 non-null    object\n",
      " 2   Year               352 non-null    object\n",
      " 3   Records            350 non-null    object\n",
      " 4   Organization type  352 non-null    object\n",
      " 5   Method             351 non-null    object\n",
      " 6   Sources            350 non-null    object\n",
      "dtypes: int64(1), object(6)\n",
      "memory usage: 19.4+ KB\n"
     ]
    }
   ],
   "source": [
    "# Informações básicas da tabela\n",
    "df.info()"
   ]
  },
  {
   "cell_type": "code",
   "execution_count": 217,
   "id": "68402978",
   "metadata": {},
   "outputs": [
    {
     "data": {
      "text/plain": [
       "Index(['Unnamed: 0', 'Entity', 'Year', 'Records', 'Organization type',\n",
       "       'Method', 'Sources'],\n",
       "      dtype='object')"
      ]
     },
     "execution_count": 217,
     "metadata": {},
     "output_type": "execute_result"
    }
   ],
   "source": [
    "# Nomes das colunas\n",
    "df.columns"
   ]
  },
  {
   "cell_type": "code",
   "execution_count": 218,
   "id": "a66eecf3",
   "metadata": {},
   "outputs": [
    {
     "data": {
      "text/html": [
       "<div>\n",
       "<style scoped>\n",
       "    .dataframe tbody tr th:only-of-type {\n",
       "        vertical-align: middle;\n",
       "    }\n",
       "\n",
       "    .dataframe tbody tr th {\n",
       "        vertical-align: top;\n",
       "    }\n",
       "\n",
       "    .dataframe thead th {\n",
       "        text-align: right;\n",
       "    }\n",
       "</style>\n",
       "<table border=\"1\" class=\"dataframe\">\n",
       "  <thead>\n",
       "    <tr style=\"text-align: right;\">\n",
       "      <th></th>\n",
       "      <th>count</th>\n",
       "      <th>mean</th>\n",
       "      <th>std</th>\n",
       "      <th>min</th>\n",
       "      <th>25%</th>\n",
       "      <th>50%</th>\n",
       "      <th>75%</th>\n",
       "      <th>max</th>\n",
       "    </tr>\n",
       "  </thead>\n",
       "  <tbody>\n",
       "    <tr>\n",
       "      <th>Unnamed: 0</th>\n",
       "      <td>352.0</td>\n",
       "      <td>175.5</td>\n",
       "      <td>101.757883</td>\n",
       "      <td>0.0</td>\n",
       "      <td>87.75</td>\n",
       "      <td>175.5</td>\n",
       "      <td>263.25</td>\n",
       "      <td>351.0</td>\n",
       "    </tr>\n",
       "  </tbody>\n",
       "</table>\n",
       "</div>"
      ],
      "text/plain": [
       "            count   mean         std  min    25%    50%     75%    max\n",
       "Unnamed: 0  352.0  175.5  101.757883  0.0  87.75  175.5  263.25  351.0"
      ]
     },
     "execution_count": 218,
     "metadata": {},
     "output_type": "execute_result"
    }
   ],
   "source": [
    "# Descrição de colunas numéricas\n",
    "df.describe().transpose()"
   ]
  },
  {
   "cell_type": "code",
   "execution_count": 219,
   "id": "949f939c",
   "metadata": {},
   "outputs": [
    {
     "data": {
      "text/plain": [
       "(352, 7)"
      ]
     },
     "execution_count": 219,
     "metadata": {},
     "output_type": "execute_result"
    }
   ],
   "source": [
    "# Número de linhas e colunas respectivamente\n",
    "df.shape"
   ]
  },
  {
   "cell_type": "code",
   "execution_count": 220,
   "id": "bbdf8f1f",
   "metadata": {},
   "outputs": [
    {
     "data": {
      "text/plain": [
       "Unnamed: 0           0\n",
       "Entity               0\n",
       "Year                 0\n",
       "Records              2\n",
       "Organization type    0\n",
       "Method               1\n",
       "Sources              2\n",
       "dtype: int64"
      ]
     },
     "execution_count": 220,
     "metadata": {},
     "output_type": "execute_result"
    }
   ],
   "source": [
    "# Contagem de registros nulos por coluna\n",
    "df.isnull().sum()"
   ]
  },
  {
   "cell_type": "code",
   "execution_count": 221,
   "id": "9cab1dc6",
   "metadata": {},
   "outputs": [
    {
     "data": {
      "text/plain": [
       "Unnamed: 0           352\n",
       "Entity               331\n",
       "Year                  22\n",
       "Records              255\n",
       "Organization type     70\n",
       "Method                25\n",
       "Sources              312\n",
       "dtype: int64"
      ]
     },
     "execution_count": 221,
     "metadata": {},
     "output_type": "execute_result"
    }
   ],
   "source": [
    "# Número de registros únicos por coluna\n",
    "df.nunique()"
   ]
  },
  {
   "cell_type": "markdown",
   "id": "f9e8cde0",
   "metadata": {},
   "source": [
    "# Preparando Dados"
   ]
  },
  {
   "cell_type": "code",
   "execution_count": 222,
   "id": "80df2fb7",
   "metadata": {},
   "outputs": [
    {
     "data": {
      "text/plain": [
       "Index(['Entity', 'Year', 'Records', 'Organization type', 'Method'], dtype='object')"
      ]
     },
     "execution_count": 222,
     "metadata": {},
     "output_type": "execute_result"
    }
   ],
   "source": [
    "# Removendo a coluna \"Unnamed: 0\" e \"Sources\"\n",
    "df = df.drop(columns=[\"Unnamed: 0\", \"Sources\"])\n",
    "df.columns"
   ]
  },
  {
   "cell_type": "code",
   "execution_count": 223,
   "id": "48baa6a9",
   "metadata": {},
   "outputs": [
    {
     "data": {
      "text/plain": [
       "Index(['entity', 'year', 'records', 'organization_type', 'method'], dtype='object')"
      ]
     },
     "execution_count": 223,
     "metadata": {},
     "output_type": "execute_result"
    }
   ],
   "source": [
    "# Removendo espaços e convertendo para caracteres minusculos das colunas\n",
    "df.columns = [column.lower().replace(\" \", \"_\") for column in df.columns]\n",
    "df.columns"
   ]
  },
  {
   "cell_type": "code",
   "execution_count": 224,
   "id": "48767995",
   "metadata": {},
   "outputs": [
    {
     "data": {
      "text/html": [
       "<div>\n",
       "<style scoped>\n",
       "    .dataframe tbody tr th:only-of-type {\n",
       "        vertical-align: middle;\n",
       "    }\n",
       "\n",
       "    .dataframe tbody tr th {\n",
       "        vertical-align: top;\n",
       "    }\n",
       "\n",
       "    .dataframe thead th {\n",
       "        text-align: right;\n",
       "    }\n",
       "</style>\n",
       "<table border=\"1\" class=\"dataframe\">\n",
       "  <thead>\n",
       "    <tr style=\"text-align: right;\">\n",
       "      <th></th>\n",
       "      <th>entity</th>\n",
       "      <th>year</th>\n",
       "      <th>records</th>\n",
       "      <th>organization_type</th>\n",
       "      <th>method</th>\n",
       "    </tr>\n",
       "  </thead>\n",
       "  <tbody>\n",
       "    <tr>\n",
       "      <th>40</th>\n",
       "      <td>Bethesda Game Studios</td>\n",
       "      <td>2018</td>\n",
       "      <td>NaN</td>\n",
       "      <td>gaming</td>\n",
       "      <td>accidentally published</td>\n",
       "    </tr>\n",
       "    <tr>\n",
       "      <th>83</th>\n",
       "      <td>Democratic National Committee</td>\n",
       "      <td>2016</td>\n",
       "      <td>19252</td>\n",
       "      <td>political</td>\n",
       "      <td>NaN</td>\n",
       "    </tr>\n",
       "    <tr>\n",
       "      <th>337</th>\n",
       "      <td>WordPress</td>\n",
       "      <td>2018</td>\n",
       "      <td>NaN</td>\n",
       "      <td>web service</td>\n",
       "      <td>hacked</td>\n",
       "    </tr>\n",
       "  </tbody>\n",
       "</table>\n",
       "</div>"
      ],
      "text/plain": [
       "                            entity  year records organization_type  \\\n",
       "40           Bethesda Game Studios  2018     NaN            gaming   \n",
       "83   Democratic National Committee  2016   19252         political   \n",
       "337                      WordPress  2018     NaN       web service   \n",
       "\n",
       "                     method  \n",
       "40   accidentally published  \n",
       "83                      NaN  \n",
       "337                  hacked  "
      ]
     },
     "execution_count": 224,
     "metadata": {},
     "output_type": "execute_result"
    }
   ],
   "source": [
    "# Verificando valores nulos\n",
    "df[df.isnull().any(axis=1)]"
   ]
  },
  {
   "cell_type": "code",
   "execution_count": 226,
   "id": "ce48b9d2",
   "metadata": {},
   "outputs": [
    {
     "data": {
      "text/plain": [
       "entity               0\n",
       "year                 0\n",
       "records              0\n",
       "organization_type    0\n",
       "method               0\n",
       "dtype: int64"
      ]
     },
     "execution_count": 226,
     "metadata": {},
     "output_type": "execute_result"
    }
   ],
   "source": [
    "# Os valores nulos se dão por ausência de informações.\n",
    "# Para uma melhor visualização, as linhas com os valores nulos são removidas.\n",
    "\n",
    "# Remove linhas com valores nulos\n",
    "df = df.dropna()\n",
    "\n",
    "# Exibe a soma de células com valores nulos\n",
    "df.isnull().sum()"
   ]
  },
  {
   "cell_type": "markdown",
   "id": "5fb894c4",
   "metadata": {},
   "source": [
    "# Análise Exploratória Univariada"
   ]
  },
  {
   "cell_type": "markdown",
   "id": "48f750b7",
   "metadata": {},
   "source": [
    "## Funções Auxiliares"
   ]
  },
  {
   "cell_type": "markdown",
   "id": "21de082c",
   "metadata": {},
   "source": [
    "1. Plotagem de Gráfico de Barras"
   ]
  },
  {
   "cell_type": "code",
   "execution_count": 192,
   "id": "f0a96fe3",
   "metadata": {},
   "outputs": [],
   "source": [
    "def univariate_barchart(x, y, title, xlabel, ylabel, xlabel_rotation=0, grid=False, barlabel=False,\n",
    "                        fig_width=10, fig_heigth=5, dpi=80, barcolor='firebrick'):\n",
    "    # Define subplot\n",
    "    fig, ax = plt.subplots(figsize=(fig_width,fig_heigth), dpi=dpi)\n",
    "\n",
    "    # Grafico de barras\n",
    "    plt.bar(x, y, color=barcolor)\n",
    "\n",
    "    # Título e etiquetas do gráfico\n",
    "    plt.title(title)\n",
    "    plt.xlabel(xlabel)\n",
    "    plt.xticks(rotation=xlabel_rotation)\n",
    "    plt.ylabel(ylabel)\n",
    "    \n",
    "    # Grade\n",
    "    if grid:\n",
    "        ax.set_axisbelow(True)\n",
    "        plt.grid(linestyle='dashed', color='lightgrey')\n",
    "\n",
    "    # Etiqueta das barras\n",
    "    if barlabel:\n",
    "        ax.bar_label(ax.containers[0], label_type='edge')\n",
    "\n",
    "    # Exibição\n",
    "    plt.show()"
   ]
  },
  {
   "cell_type": "markdown",
   "id": "27e9b7c5",
   "metadata": {},
   "source": [
    "## Organizações/Entidades/Empresas"
   ]
  },
  {
   "cell_type": "code",
   "execution_count": 169,
   "id": "4788eede",
   "metadata": {},
   "outputs": [
    {
     "data": {
      "image/png": "[encoded data removed]",
      "text/plain": [
       "<Figure size 960x560 with 1 Axes>"
      ]
     },
     "metadata": {
      "needs_background": "light"
     },
     "output_type": "display_data"
    }
   ],
   "source": [
    "# Definindo x e y\n",
    "\n",
    "temp_df = df['entity'].value_counts().reset_index()\n",
    "temp_df = temp_df[temp_df['entity']>1].rename(columns={'index': 'entidade', 'entity': 'contagem'})\n",
    "\n",
    "others = {\n",
    "    'entidade': ['Outras'],\n",
    "    'contagem' : [df['entity'].value_counts().sum() - temp_df['contagem'].sum()]\n",
    "}\n",
    "\n",
    "new_df = pd.concat([pd.DataFrame.from_dict(others), temp_df.sort_values('contagem', ascending=True)])\n",
    "\n",
    "y = new_df['entidade']\n",
    "width = new_df['contagem']\n",
    "\n",
    "# Definindo subplot\n",
    "fig, ax = plt.subplots(figsize=(12,7), dpi=80)\n",
    "\n",
    "# Grafico de barras horizontal\n",
    "plt.barh(y, width, color='firebrick')\n",
    "\n",
    "# Título e etiquetas do gráfico\n",
    "plt.title('Contagem de Violações de Dados por Entidades que Contabilizam Duas ou Mais Violações')\n",
    "plt.xlabel('Contagem de Violações de Dados')\n",
    "plt.ylabel('Entidade')\n",
    "\n",
    "# Grade\n",
    "ax.set_axisbelow(True)\n",
    "plt.grid(linestyle='dashed', color='lightgrey')\n",
    "\n",
    "# Etiqueta das barras\n",
    "ax.bar_label(ax.containers[0], label_type='edge')\n",
    "\n",
    "# Exibição\n",
    "plt.show()"
   ]
  },
  {
   "cell_type": "markdown",
   "id": "9c3eeab3",
   "metadata": {},
   "source": [
    "Considerações\n",
    "* As 347 violações de dados se dividem entre as 327 entidades distintas existentes neste conjunto de dados;\n",
    "* A entidade Facebook lidera o gráfico com 5 violações de dados distintas;\n",
    "* Das 327 entidades, 15 delas possuem duas ou mais violações de dados que é igual a 4,58%;\n",
    "* As 15 entidades com duas ou mais violações de dados somam 35 violações, representando 10,08% do total."
   ]
  },
  {
   "cell_type": "markdown",
   "id": "f8b73f51",
   "metadata": {},
   "source": [
    "## Violações de Dados ao Longo dos Anos"
   ]
  },
  {
   "cell_type": "code",
   "execution_count": 170,
   "id": "681f4617",
   "metadata": {},
   "outputs": [
    {
     "data": {
      "text/html": [
       "<div>\n",
       "<style scoped>\n",
       "    .dataframe tbody tr th:only-of-type {\n",
       "        vertical-align: middle;\n",
       "    }\n",
       "\n",
       "    .dataframe tbody tr th {\n",
       "        vertical-align: top;\n",
       "    }\n",
       "\n",
       "    .dataframe thead th {\n",
       "        text-align: right;\n",
       "    }\n",
       "</style>\n",
       "<table border=\"1\" class=\"dataframe\">\n",
       "  <thead>\n",
       "    <tr style=\"text-align: right;\">\n",
       "      <th></th>\n",
       "      <th>ano</th>\n",
       "      <th>contagem</th>\n",
       "    </tr>\n",
       "  </thead>\n",
       "  <tbody>\n",
       "    <tr>\n",
       "      <th>0</th>\n",
       "      <td>2011</td>\n",
       "      <td>34</td>\n",
       "    </tr>\n",
       "    <tr>\n",
       "      <th>1</th>\n",
       "      <td>2020</td>\n",
       "      <td>31</td>\n",
       "    </tr>\n",
       "    <tr>\n",
       "      <th>2</th>\n",
       "      <td>2019</td>\n",
       "      <td>30</td>\n",
       "    </tr>\n",
       "    <tr>\n",
       "      <th>3</th>\n",
       "      <td>2015</td>\n",
       "      <td>28</td>\n",
       "    </tr>\n",
       "    <tr>\n",
       "      <th>4</th>\n",
       "      <td>2013</td>\n",
       "      <td>28</td>\n",
       "    </tr>\n",
       "    <tr>\n",
       "      <th>5</th>\n",
       "      <td>2014</td>\n",
       "      <td>25</td>\n",
       "    </tr>\n",
       "    <tr>\n",
       "      <th>6</th>\n",
       "      <td>2018</td>\n",
       "      <td>24</td>\n",
       "    </tr>\n",
       "    <tr>\n",
       "      <th>7</th>\n",
       "      <td>2012</td>\n",
       "      <td>23</td>\n",
       "    </tr>\n",
       "    <tr>\n",
       "      <th>8</th>\n",
       "      <td>2016</td>\n",
       "      <td>21</td>\n",
       "    </tr>\n",
       "    <tr>\n",
       "      <th>9</th>\n",
       "      <td>2010</td>\n",
       "      <td>19</td>\n",
       "    </tr>\n",
       "    <tr>\n",
       "      <th>10</th>\n",
       "      <td>2008</td>\n",
       "      <td>16</td>\n",
       "    </tr>\n",
       "    <tr>\n",
       "      <th>11</th>\n",
       "      <td>2021</td>\n",
       "      <td>13</td>\n",
       "    </tr>\n",
       "    <tr>\n",
       "      <th>12</th>\n",
       "      <td>2009</td>\n",
       "      <td>13</td>\n",
       "    </tr>\n",
       "    <tr>\n",
       "      <th>13</th>\n",
       "      <td>2007</td>\n",
       "      <td>12</td>\n",
       "    </tr>\n",
       "    <tr>\n",
       "      <th>14</th>\n",
       "      <td>2017</td>\n",
       "      <td>9</td>\n",
       "    </tr>\n",
       "    <tr>\n",
       "      <th>15</th>\n",
       "      <td>2006</td>\n",
       "      <td>7</td>\n",
       "    </tr>\n",
       "    <tr>\n",
       "      <th>16</th>\n",
       "      <td>2005</td>\n",
       "      <td>6</td>\n",
       "    </tr>\n",
       "    <tr>\n",
       "      <th>17</th>\n",
       "      <td>2022</td>\n",
       "      <td>5</td>\n",
       "    </tr>\n",
       "    <tr>\n",
       "      <th>18</th>\n",
       "      <td>2004</td>\n",
       "      <td>2</td>\n",
       "    </tr>\n",
       "    <tr>\n",
       "      <th>19</th>\n",
       "      <td>2019-2020</td>\n",
       "      <td>1</td>\n",
       "    </tr>\n",
       "    <tr>\n",
       "      <th>20</th>\n",
       "      <td>2018-2019</td>\n",
       "      <td>1</td>\n",
       "    </tr>\n",
       "    <tr>\n",
       "      <th>21</th>\n",
       "      <td>2014 and 2015</td>\n",
       "      <td>1</td>\n",
       "    </tr>\n",
       "  </tbody>\n",
       "</table>\n",
       "</div>"
      ],
      "text/plain": [
       "              ano  contagem\n",
       "0            2011        34\n",
       "1            2020        31\n",
       "2            2019        30\n",
       "3            2015        28\n",
       "4            2013        28\n",
       "5            2014        25\n",
       "6            2018        24\n",
       "7            2012        23\n",
       "8            2016        21\n",
       "9            2010        19\n",
       "10           2008        16\n",
       "11           2021        13\n",
       "12           2009        13\n",
       "13           2007        12\n",
       "14           2017         9\n",
       "15           2006         7\n",
       "16           2005         6\n",
       "17           2022         5\n",
       "18           2004         2\n",
       "19      2019-2020         1\n",
       "20      2018-2019         1\n",
       "21  2014 and 2015         1"
      ]
     },
     "execution_count": 170,
     "metadata": {},
     "output_type": "execute_result"
    }
   ],
   "source": [
    "temp_df = df['year'].value_counts().reset_index().rename(columns={'index': 'ano', 'year': 'contagem'})\n",
    "temp_df"
   ]
  },
  {
   "cell_type": "code",
   "execution_count": 171,
   "id": "3be3c62b",
   "metadata": {
    "scrolled": false
   },
   "outputs": [
    {
     "data": {
      "image/png": "[encoded data removed]",
      "text/plain": [
       "<Figure size 960x400 with 1 Axes>"
      ]
     },
     "metadata": {
      "needs_background": "light"
     },
     "output_type": "display_data"
    }
   ],
   "source": [
    "# Para uma melhor visualização, as violações onde ocorreram em mais de um ano são removidas e é acrescentado\n",
    "# uma unidade a contagem do ano final da violação\n",
    "\n",
    "index_list = []\n",
    "year_list = []\n",
    "\n",
    "for index,ano in zip(range(len(temp_df['ano'])), temp_df['ano']):\n",
    "    if len(ano)>4:\n",
    "        index_list.append(index)\n",
    "        year_list.append(ano[-4:])\n",
    "        \n",
    "for year in year_list:\n",
    "    # Adiciona uma unidade ao ano corrente\n",
    "    temp_df.loc[temp_df['ano'] == year,'contagem'] = temp_df[temp_df['ano'] == year]['contagem'] + 1\n",
    "\n",
    "# Remove os anos concatenados\n",
    "new_df = temp_df.drop(index_list).sort_values('ano')\n",
    "\n",
    "# Define os valores de X e Y\n",
    "x = new_df['ano']\n",
    "y = new_df['contagem']\n",
    "\n",
    "# Definindo subplot\n",
    "fig, ax = plt.subplots(figsize=(12,5), dpi=80)\n",
    "\n",
    "# Grafico de barras horizontal\n",
    "plt.plot(x, y, marker='o', color='firebrick')\n",
    "\n",
    "# Título e etiquetas do gráfico\n",
    "plt.title('Contagem de Violações de Dados ao Longo dos Anos')\n",
    "plt.xlabel('Ano')\n",
    "plt.ylabel('Contagem de Violações')\n",
    "\n",
    "# Grade\n",
    "ax.set_axisbelow(True)\n",
    "plt.grid(linestyle='dashed', color='lightgrey')\n",
    "\n",
    "# Etiqueta das Linhas\n",
    "for x,y in zip(x,y):\n",
    "    plt.annotate(y,(x,y),textcoords=\"offset points\",xytext=(0,4),ha='center')\n",
    "\n",
    "# Exibição\n",
    "plt.show()"
   ]
  },
  {
   "cell_type": "markdown",
   "id": "bae2e0eb",
   "metadata": {},
   "source": [
    "Considerações\n",
    "* É possível verificar um aumento significativo na quantidade de violações ao longo dos anos, e este fato se dá em detrimento da evolução tecnológica e da informatização de sistemas;\n",
    "* Também é possível verificar que, nos anos atuais, o número de violações diminui pois as entidades investem em ciber-segurança ao verificarem o valor que os dados oferecem; \n",
    "* Neste conjunto de dados, 2011 foi o ano de maior número de violações de dados, aproximadamente 9,79% do número total de violações, seguido de 2020 com 9,22% e 2019 com 8,64%."
   ]
  },
  {
   "cell_type": "markdown",
   "id": "27ee92bf",
   "metadata": {},
   "source": [
    "## Registros Comprometidos"
   ]
  },
  {
   "cell_type": "code",
   "execution_count": 172,
   "id": "dfeec23a",
   "metadata": {},
   "outputs": [
    {
     "data": {
      "text/plain": [
       "unknown          21\n",
       "1500000           7\n",
       "1000000           6\n",
       "500000            6\n",
       "160000            4\n",
       "                 ..\n",
       "283000            1\n",
       "250 locations     1\n",
       "92000000          1\n",
       "80000000          1\n",
       "95000             1\n",
       "Name: records, Length: 254, dtype: int64"
      ]
     },
     "execution_count": 172,
     "metadata": {},
     "output_type": "execute_result"
    }
   ],
   "source": [
    "df['records'].value_counts()"
   ]
  },
  {
   "cell_type": "markdown",
   "id": "de7bb24b",
   "metadata": {},
   "source": [
    "Para a realização da análise numérica, os valores que não são convertíveis para números inteiros são desconsiderados."
   ]
  },
  {
   "cell_type": "code",
   "execution_count": 173,
   "id": "4c93030a",
   "metadata": {},
   "outputs": [],
   "source": [
    "index_list = []\n",
    "temp_df = df['records'].value_counts().reset_index()['index']\n",
    "for index, value in zip(range(len(temp_df)), temp_df):\n",
    "    try:\n",
    "        int(value)\n",
    "    except:\n",
    "        index_list.append(index)\n",
    "\n",
    "new_df1 = temp_df.drop(index_list).astype('int64')"
   ]
  },
  {
   "cell_type": "markdown",
   "id": "a883e29e",
   "metadata": {},
   "source": [
    "Verificando outliers"
   ]
  },
  {
   "cell_type": "code",
   "execution_count": 174,
   "id": "ac183e26",
   "metadata": {},
   "outputs": [
    {
     "name": "stdout",
     "output_type": "stream",
     "text": [
      "count    2.290000e+02\n",
      "mean     5.248015e+07\n",
      "std      2.191514e+08\n",
      "min      6.700000e+03\n",
      "25%      3.000000e+05\n",
      "50%      2.300000e+06\n",
      "75%      2.615161e+07\n",
      "max      3.000000e+09\n",
      "Name: index, dtype: float64\n"
     ]
    },
    {
     "data": {
      "image/png": "[encoded data removed]",
      "text/plain": [
       "<Figure size 432x288 with 2 Axes>"
      ]
     },
     "metadata": {
      "needs_background": "light"
     },
     "output_type": "display_data"
    }
   ],
   "source": [
    "print(new_df1.describe())\n",
    "\n",
    "fig, ax = plt.subplots(1,2)\n",
    "ax[0].hist(new_df1, color='firebrick')\n",
    "ax[1].boxplot(new_df1)\n",
    "plt.show()"
   ]
  },
  {
   "cell_type": "markdown",
   "id": "1b259454",
   "metadata": {},
   "source": [
    "A alta discrepancia entre os valores dos dados solicita um processamento"
   ]
  },
  {
   "cell_type": "markdown",
   "id": "525ff600",
   "metadata": {},
   "source": [
    "Verificando limites para tratamento dos outliers"
   ]
  },
  {
   "cell_type": "code",
   "execution_count": 175,
   "id": "e459375a",
   "metadata": {},
   "outputs": [
    {
     "name": "stdout",
     "output_type": "stream",
     "text": [
      "Q1: 300000.0\n",
      "Q3: 26151608.0\n",
      "II: 25851608.0\n",
      "LI: -38477412.0\n",
      "LS: 64929020.0\n"
     ]
    }
   ],
   "source": [
    "# Primeiro Quartil\n",
    "q1 = new_df1.quantile(0.25)\n",
    "print(f\"Q1: {q1}\")\n",
    "\n",
    "# Terceiro Quartil\n",
    "q3 = new_df1.quantile(0.75)\n",
    "print(f\"Q3: {q3}\")\n",
    "\n",
    "# Intervalo Interquartílico\n",
    "ii = q3 - q1\n",
    "print(f\"II: {ii}\")\n",
    "\n",
    "# Limite Inferior\n",
    "li = q1-(1.5*ii)\n",
    "print(f\"LI: {li}\")\n",
    "\n",
    "# Limite Superior\n",
    "ls = q3+(1.5*ii)\n",
    "print(f\"LS: {ls}\")"
   ]
  },
  {
   "cell_type": "markdown",
   "id": "d5996974",
   "metadata": {},
   "source": [
    "Função auxiliar para converter números astronômicos em strings menores"
   ]
  },
  {
   "cell_type": "code",
   "execution_count": 176,
   "id": "e57f438f",
   "metadata": {},
   "outputs": [],
   "source": [
    "def converte_num(valor):\n",
    "    if valor > 1000000000000:\n",
    "        return f'{round(valor/1000000000000)} Tri'\n",
    "    elif valor > 1000000000:\n",
    "        return f'{round(valor/1000000000)} Bi'\n",
    "    elif valor > 1000000:\n",
    "        return f'{round(valor/1000000)} Mi'\n",
    "    elif valor > 1000:\n",
    "        return f'{round(valor/1000)} Mil'\n",
    "    else:\n",
    "        return f'{round(valor)}'"
   ]
  },
  {
   "cell_type": "markdown",
   "id": "b17e228e",
   "metadata": {},
   "source": [
    "Definindo caixa de texto auxiliar para o boxplot 1"
   ]
  },
  {
   "cell_type": "code",
   "execution_count": 177,
   "id": "51f889c2",
   "metadata": {},
   "outputs": [],
   "source": [
    "text_box = f'''\n",
    "Contagem: {converte_num(new_df1.describe()[0])}\n",
    "Média: {converte_num(new_df1.describe()[1])}\n",
    "Desvio Padrão: {converte_num(new_df1.describe()[2])}\n",
    "Mínimo: {converte_num(new_df1.describe()[3])}\n",
    "25%: {converte_num(new_df1.describe()[4])}\n",
    "50%: {converte_num(new_df1.describe()[5])}\n",
    "75%: {converte_num(new_df1.describe()[6])}\n",
    "Lim. Sup.: {converte_num(ls)}\n",
    "Máximo: {converte_num(new_df1.describe()[7])}\n",
    "'''"
   ]
  },
  {
   "cell_type": "markdown",
   "id": "de67943a",
   "metadata": {},
   "source": [
    "Plotando resultado"
   ]
  },
  {
   "cell_type": "code",
   "execution_count": 178,
   "id": "679dada5",
   "metadata": {},
   "outputs": [
    {
     "data": {
      "image/png": "[encoded data removed]",
      "text/plain": [
       "<Figure size 1600x640 with 2 Axes>"
      ]
     },
     "metadata": {
      "needs_background": "light"
     },
     "output_type": "display_data"
    }
   ],
   "source": [
    "# Definindo subplots\n",
    "fig, ax = plt.subplots(1,2, figsize=(20,8), dpi=80)\n",
    "\n",
    "# Boxplot\n",
    "ax[0].ticklabel_format(axis='both',style='plain')\n",
    "ax[0].boxplot(new_df1)\n",
    "ax[0].set_title(\"Distribuição do Número de Violações pela Quantidade de Registros Comprometidos\")\n",
    "ax[0].set_axisbelow(True)\n",
    "ax[0].grid(linestyle='dashed', color='lightgrey', axis='y')\n",
    "ax[0].text(1.15,0,f'{text_box}', backgroundcolor='white')\n",
    "\n",
    "# Boxplot Sem Outliers\n",
    "ax[1].ticklabel_format(axis='both',style='plain')\n",
    "ax[1].boxplot(new_df1, showfliers=False)\n",
    "ax[1].set_title(\"Distribuição do Número de Violações pela Quantidade de Registros Comprometidos (Sem Valores Discrepantes)\")\n",
    "ax[1].set_axisbelow(True)\n",
    "ax[1].grid(linestyle='dashed', color='lightgrey', axis='y')\n",
    "ax[1].text(1.15,0,f'{text_box}', backgroundcolor='white')\n",
    "\n",
    "# Exibição\n",
    "plt.show()"
   ]
  },
  {
   "cell_type": "markdown",
   "id": "fee48832",
   "metadata": {},
   "source": [
    "Considerações:\n",
    "* Neste conjunto, a média de registros comprometidos por violações de dados é igual a 52 milhões, com um desvio padrão de 220 mil;\n",
    "* O maior número de registros comprometidos em uma única violação registrado neste conjunto é igual a 3 bilhões de registros;\n",
    "* 75% das violações resultaram entre 7 mil e 25 milhões de registros comprometidos, o restante das violações resultaram entre 25 milhões e 3 bilhões de registros;\n",
    "* As violações que revelam acima de 63 milhões de registros comprometidos são considerados valores discrepantes."
   ]
  },
  {
   "cell_type": "markdown",
   "id": "71df2e99",
   "metadata": {},
   "source": [
    "## Tipo de Entidade/Organização/Empresa"
   ]
  },
  {
   "cell_type": "markdown",
   "id": "a67265c3",
   "metadata": {},
   "source": [
    "Verificando tipos de organizações únicas"
   ]
  },
  {
   "cell_type": "code",
   "execution_count": 212,
   "id": "fa7fd8cd",
   "metadata": {
    "scrolled": true
   },
   "outputs": [
    {
     "name": "stdout",
     "output_type": "stream",
     "text": [
      "healthcare\n",
      "social networking\n",
      "tech\n",
      "advertising\n",
      "telecommunications\n",
      "transport\n",
      "web\n",
      "financial\n",
      "gaming\n",
      "tech, retail\n",
      "telecoms\n",
      "dating\n",
      "government\n",
      "academic\n",
      "retail\n",
      "educational services\n",
      "gambling\n",
      "banking\n",
      "game\n",
      "energy\n",
      "background check\n",
      "information technology\n",
      "hosting provider\n",
      "military\n",
      "health\n",
      "consulting, accounting\n",
      "messaging app\n",
      "restaurant\n",
      "financial, credit reporting\n",
      "data broker\n",
      "social network\n",
      "financial service company\n",
      "Information Security\n",
      "personal and demographic data about residents and their properties of US\n",
      "hotel\n",
      "humanitarian\n",
      "special public corporation\n",
      "shopping\n",
      "local search\n",
      "mobile carrier\n",
      "publisher (magazine)\n",
      "government, healthcare\n",
      "software\n",
      "web, military\n",
      "online shopping\n",
      "genealogy\n",
      "media\n",
      "telecom\n",
      "QR code payment\n",
      "fashion\n",
      "Clinical Laboratory\n",
      "Question & Answer\n",
      "web, gaming\n",
      "government, database\n",
      "phone accessories\n",
      "web, tech\n",
      "Network Monitoring\n",
      "market analysis\n",
      "ticket distribution\n",
      "social media\n",
      "military, healthcare\n",
      "Telephone directory\n",
      "Consumer Goods\n",
      "government, military\n",
      "online marketing\n",
      "arts group\n",
      "tech, web\n",
      "various\n"
     ]
    }
   ],
   "source": [
    "for unique_value in df['organization_type'].unique():\n",
    "    print(unique_value)"
   ]
  },
  {
   "cell_type": "code",
   "execution_count": 202,
   "id": "0cafe168",
   "metadata": {},
   "outputs": [
    {
     "data": {
      "image/png": "[encoded data removed]",
      "text/plain": [
       "<Figure size 960x400 with 1 Axes>"
      ]
     },
     "metadata": {
      "needs_background": "light"
     },
     "output_type": "display_data"
    }
   ],
   "source": [
    "# Transforma o frame original num frame de contagem de tipo de organização\n",
    "temp_df = df['organization_type'].value_counts().reset_index()\n",
    "temp_df = temp_df[temp_df['organization_type']>10].rename(columns={'index': 'tipo_de_organizacao', 'organization_type': 'contagem'})\n",
    "\n",
    "# Cria dicionário para atribuição do valor da contagem restante à linha \"Outras\"\n",
    "others = {\n",
    "    'tipo_de_organizacao': ['Outras'],\n",
    "    'contagem' : [df['organization_type'].value_counts().sum() - temp_df['contagem'].sum()]\n",
    "}\n",
    "\n",
    "# Concatena o frame temporário com a linha \"Outras\" num novo dataframe\n",
    "new_df = pd.concat([temp_df,pd.DataFrame.from_dict(others)])\n",
    "\n",
    "# Exibição do Gráfico de Barras\n",
    "univariate_barchart(\n",
    "    x=new_df['tipo_de_organizacao'],\n",
    "    y=new_df['contagem'],\n",
    "    title=\"Contagem de Violações de Dados por Tipo de Organização\",\n",
    "    xlabel=\"Tipo de Organização\",\n",
    "    ylabel=\"Contagem de Violações de Dados\",\n",
    "    grid=True,\n",
    "    barlabel=True,\n",
    "    fig_width=12\n",
    ")"
   ]
  },
  {
   "cell_type": "markdown",
   "id": "c400f5d4",
   "metadata": {},
   "source": [
    "Considerações\n",
    "* As organizações do tipo Web são as que mais sofreram violações de dados bem sucedidas, totabilizando 53 violações distintas, que é equivalente a 15% do valor total de violações;\n",
    "* Os tipos de organizações com maior número de violações, do mais afetado para o menos afetado, são do tipo Web, Assistência Médica e Financeiro. É possível assimilar os tipos mais afetados ao fato de serem, de forma geral, mais expositivas e mais lucrativas, tornando-os alvo de um maior volume de ataques."
   ]
  },
  {
   "cell_type": "markdown",
   "id": "b087682e",
   "metadata": {},
   "source": [
    "## Métodos de Violações de Dados"
   ]
  },
  {
   "cell_type": "markdown",
   "id": "84bbac7e",
   "metadata": {},
   "source": [
    "Verificando os valores únicos da colunas \"metodos\" (method)"
   ]
  },
  {
   "cell_type": "code",
   "execution_count": 210,
   "id": "d74b2e92",
   "metadata": {
    "scrolled": true
   },
   "outputs": [
    {
     "name": "stdout",
     "output_type": "stream",
     "text": [
      "hacked\n",
      "poor security\n",
      "lost / stolen media\n",
      "accidentally published\n",
      "inside job, hacked\n",
      "lost / stolen computer\n",
      "unknown\n",
      "unsecured S3 bucket\n",
      "inside job\n",
      "accidentally uploaded\n",
      "poor security / hacked\n",
      "Poor security\n",
      "unprotected api\n",
      "poor security/inside job\n",
      "data exposed by misconfiguration\n",
      "zero-day vulnerabilities\n",
      "intentionally lost\n",
      "misconfiguration/poor security\n",
      "ransomware hacked\n",
      "rogue contractor\n",
      "improper setting, hacked\n",
      "hacked/misconfiguration\n",
      "publicly accessible Amazon Web Services (AWS) server\n",
      "accidentally exposed\n",
      "social engineering\n"
     ]
    }
   ],
   "source": [
    "# Exibe os valores únicos na coluna \"method\"\n",
    "for unique_value in df['method'].unique():\n",
    "    print(unique_value)"
   ]
  },
  {
   "cell_type": "markdown",
   "id": "2ee7ad57",
   "metadata": {},
   "source": [
    "Existem violações de dados que foram realizadas através de mais de um método, e estes estão concatenados em uma única célula no frame, desta forma, estas células devem ser separadas e os respectivos valores incrementados em suas respectivas colunas"
   ]
  },
  {
   "cell_type": "code",
   "execution_count": 198,
   "id": "aa88c0ca",
   "metadata": {
    "scrolled": false
   },
   "outputs": [
    {
     "data": {
      "image/png": "[encoded data removed]",
      "text/plain": [
       "<Figure size 800x400 with 1 Axes>"
      ]
     },
     "metadata": {
      "needs_background": "light"
     },
     "output_type": "display_data"
    }
   ],
   "source": [
    "# Separa os métodos concatenados por vírgula (,) ou barra (/) e adiciona numa lista de itens\n",
    "item_list = []\n",
    "for value in df['method'].values:\n",
    "    for item in re.split(',|/', value.lower()):\n",
    "        item_list.append(item.strip())\n",
    "\n",
    "# Transforma a lista de itens num frame temporário e concatena o item \"lost\" nas colunas \"stolen media\" e \"stolen computer\". \n",
    "temp_df = pd.Series(item_list).value_counts().drop(labels='lost').reset_index().replace('stolen media', 'lost or stolen media').replace('stolen computer', 'lost or stolen computer').set_axis(['metodo', 'contagem'], axis=1, inplace=False)\n",
    "\n",
    "# É criado um dicionário \"Outros\" para representar os outros métodos além dos top 4 com maior número de violações\n",
    "others = {\n",
    "    'metodo': ['Outros'],\n",
    "    'contagem' : [temp_df['contagem'].sum() - temp_df.head(4)['contagem'].sum()]\n",
    "}\n",
    "\n",
    "# Novo frame da concatenação dos top 4 valores da lista e da linha \"Outros\"\n",
    "new_df = pd.concat([temp_df.head(4).sort_values('contagem', ascending=False), pd.DataFrame.from_dict(others)])\n",
    "\n",
    "# Exibição do Gráfico de Barras\n",
    "univariate_barchart(\n",
    "    x=new_df['metodo'],\n",
    "    y=new_df['contagem'],\n",
    "    title=\"Contagem de Violações de Dados por Tipo de Organização\",\n",
    "    xlabel=\"Tipo de Organização\",\n",
    "    ylabel=\"Contagem de Violações de Dados\",\n",
    "    grid=True,\n",
    "    barlabel=True,\n",
    ")"
   ]
  },
  {
   "cell_type": "markdown",
   "id": "5783cf85",
   "metadata": {},
   "source": [
    "Considerações\n",
    "* Do total de 354 violações de dados divididos entre os métodos, 55% ocorreram devido a hackers, sendo o método de maior sucesso na realização de violações de dados;\n",
    "* Os motivos com maior número de violações são hacking, brechas de segurança, arquivos roubados ou perdidos, e  funcionários dentro da própria organização, sendo 195, 47, 33 e 22 violações respectivamente, o restante é agrupado em 57 outros métodos."
   ]
  },
  {
   "cell_type": "markdown",
   "id": "c493503d",
   "metadata": {},
   "source": [
    "# EM DESENVOLVIMENTO"
   ]
  }
 ],
 "metadata": {
  "kernelspec": {
   "display_name": "Python 3 (ipykernel)",
   "language": "python",
   "name": "python3"
  },
  "language_info": {
   "codemirror_mode": {
    "name": "ipython",
    "version": 3
   },
   "file_extension": ".py",
   "mimetype": "text/x-python",
   "name": "python",
   "nbconvert_exporter": "python",
   "pygments_lexer": "ipython3",
   "version": "3.8.13"
  }
 },
 "nbformat": 4,
 "nbformat_minor": 5
}
