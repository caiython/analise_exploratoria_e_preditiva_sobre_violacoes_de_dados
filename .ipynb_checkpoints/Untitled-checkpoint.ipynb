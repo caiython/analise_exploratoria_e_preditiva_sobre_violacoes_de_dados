{
 "cells": [
  {
   "cell_type": "markdown",
   "id": "f0015c4c",
   "metadata": {},
   "source": [
    "# Análise Exploratória de Violações de Dados"
   ]
  },
  {
   "cell_type": "markdown",
   "id": "99fc2b85",
   "metadata": {},
   "source": [
    "## Introdução"
   ]
  },
  {
   "cell_type": "markdown",
   "id": "9c1df421",
   "metadata": {},
   "source": [
    "Olá. Meu nome é Caio.\n",
    "\n",
    "Está é a minha primeira análise de dados documentada.\n",
    "\n",
    "Estarei analisando um dataset que contém uma compilação de dados de diversas fontes diferentes sobre violações de dados de empresas.\n",
    "\n",
    "Fonte: Kaggle (https://www.kaggle.com/datasets/thedevastator/data-breaches-a-comprehensive-list)\n",
    "\n",
    "Sou mente aberta, então sinta-se livre para realizar críticas construtivas.\n",
    "\n",
    "Boa leitura! :)"
   ]
  },
  {
   "cell_type": "markdown",
   "id": "70434c07",
   "metadata": {},
   "source": [
    "## Bibliotecas"
   ]
  },
  {
   "cell_type": "markdown",
   "id": "6f98593a",
   "metadata": {},
   "source": [
    "Estarei utilizando as bibliotecas\n",
    "* pandas\n",
    "* numpy\n",
    "* matplotlib\n",
    "* seaborn"
   ]
  },
  {
   "cell_type": "code",
   "execution_count": 1,
   "id": "579d0256",
   "metadata": {},
   "outputs": [],
   "source": [
    "import pandas as pd\n",
    "import numpy as np\n",
    "import matplotlib.pyplot as plt\n",
    "import seaborn as sns\n",
    "import scipy.stats as stats\n",
    "import re"
   ]
  },
  {
   "cell_type": "markdown",
   "id": "0cf8a137",
   "metadata": {},
   "source": [
    "## DataSet"
   ]
  },
  {
   "cell_type": "markdown",
   "id": "f487e74d",
   "metadata": {},
   "source": [
    "### Carregando DataSet"
   ]
  },
  {
   "cell_type": "code",
   "execution_count": 2,
   "id": "2a515ddd",
   "metadata": {},
   "outputs": [],
   "source": [
    "df = pd.read_csv('data_breaches.csv')"
   ]
  },
  {
   "cell_type": "markdown",
   "id": "a1bff867",
   "metadata": {},
   "source": [
    "### Topo da tabela"
   ]
  },
  {
   "cell_type": "code",
   "execution_count": 3,
   "id": "af9be6f8",
   "metadata": {},
   "outputs": [
    {
     "data": {
      "text/html": [
       "<div>\n",
       "<style scoped>\n",
       "    .dataframe tbody tr th:only-of-type {\n",
       "        vertical-align: middle;\n",
       "    }\n",
       "\n",
       "    .dataframe tbody tr th {\n",
       "        vertical-align: top;\n",
       "    }\n",
       "\n",
       "    .dataframe thead th {\n",
       "        text-align: right;\n",
       "    }\n",
       "</style>\n",
       "<table border=\"1\" class=\"dataframe\">\n",
       "  <thead>\n",
       "    <tr style=\"text-align: right;\">\n",
       "      <th></th>\n",
       "      <th>Unnamed: 0</th>\n",
       "      <th>Entity</th>\n",
       "      <th>Year</th>\n",
       "      <th>Records</th>\n",
       "      <th>Organization type</th>\n",
       "      <th>Method</th>\n",
       "      <th>Sources</th>\n",
       "    </tr>\n",
       "  </thead>\n",
       "  <tbody>\n",
       "    <tr>\n",
       "      <th>0</th>\n",
       "      <td>0</td>\n",
       "      <td>21st Century Oncology</td>\n",
       "      <td>2016</td>\n",
       "      <td>2200000</td>\n",
       "      <td>healthcare</td>\n",
       "      <td>hacked</td>\n",
       "      <td>[5][6]</td>\n",
       "    </tr>\n",
       "    <tr>\n",
       "      <th>1</th>\n",
       "      <td>1</td>\n",
       "      <td>500px</td>\n",
       "      <td>2020</td>\n",
       "      <td>14870304</td>\n",
       "      <td>social networking</td>\n",
       "      <td>hacked</td>\n",
       "      <td>[7]</td>\n",
       "    </tr>\n",
       "    <tr>\n",
       "      <th>2</th>\n",
       "      <td>2</td>\n",
       "      <td>Accendo Insurance Co.</td>\n",
       "      <td>2020</td>\n",
       "      <td>175350</td>\n",
       "      <td>healthcare</td>\n",
       "      <td>poor security</td>\n",
       "      <td>[8][9]</td>\n",
       "    </tr>\n",
       "    <tr>\n",
       "      <th>3</th>\n",
       "      <td>3</td>\n",
       "      <td>Adobe Systems Incorporated</td>\n",
       "      <td>2013</td>\n",
       "      <td>152000000</td>\n",
       "      <td>tech</td>\n",
       "      <td>hacked</td>\n",
       "      <td>[10]</td>\n",
       "    </tr>\n",
       "    <tr>\n",
       "      <th>4</th>\n",
       "      <td>4</td>\n",
       "      <td>Adobe Inc.</td>\n",
       "      <td>2019</td>\n",
       "      <td>7500000</td>\n",
       "      <td>tech</td>\n",
       "      <td>poor security</td>\n",
       "      <td>[11][12]</td>\n",
       "    </tr>\n",
       "  </tbody>\n",
       "</table>\n",
       "</div>"
      ],
      "text/plain": [
       "   Unnamed: 0                      Entity  Year    Records  Organization type  \\\n",
       "0           0       21st Century Oncology  2016    2200000         healthcare   \n",
       "1           1                       500px  2020   14870304  social networking   \n",
       "2           2       Accendo Insurance Co.  2020     175350         healthcare   \n",
       "3           3  Adobe Systems Incorporated  2013  152000000               tech   \n",
       "4           4                  Adobe Inc.  2019    7500000               tech   \n",
       "\n",
       "          Method   Sources  \n",
       "0         hacked    [5][6]  \n",
       "1         hacked       [7]  \n",
       "2  poor security    [8][9]  \n",
       "3         hacked      [10]  \n",
       "4  poor security  [11][12]  "
      ]
     },
     "execution_count": 3,
     "metadata": {},
     "output_type": "execute_result"
    }
   ],
   "source": [
    "df.head()"
   ]
  },
  {
   "cell_type": "markdown",
   "id": "2c2ddc4b",
   "metadata": {},
   "source": [
    "### Informações básicas da tabela"
   ]
  },
  {
   "cell_type": "code",
   "execution_count": 4,
   "id": "414bc33d",
   "metadata": {},
   "outputs": [
    {
     "name": "stdout",
     "output_type": "stream",
     "text": [
      "<class 'pandas.core.frame.DataFrame'>\n",
      "RangeIndex: 352 entries, 0 to 351\n",
      "Data columns (total 7 columns):\n",
      " #   Column             Non-Null Count  Dtype \n",
      "---  ------             --------------  ----- \n",
      " 0   Unnamed: 0         352 non-null    int64 \n",
      " 1   Entity             352 non-null    object\n",
      " 2   Year               352 non-null    object\n",
      " 3   Records            350 non-null    object\n",
      " 4   Organization type  352 non-null    object\n",
      " 5   Method             351 non-null    object\n",
      " 6   Sources            350 non-null    object\n",
      "dtypes: int64(1), object(6)\n",
      "memory usage: 19.4+ KB\n"
     ]
    }
   ],
   "source": [
    "df.info()"
   ]
  },
  {
   "cell_type": "markdown",
   "id": "6f71f721",
   "metadata": {},
   "source": [
    "### Nomes das colunas"
   ]
  },
  {
   "cell_type": "code",
   "execution_count": 5,
   "id": "68402978",
   "metadata": {},
   "outputs": [
    {
     "data": {
      "text/plain": [
       "Index(['Unnamed: 0', 'Entity', 'Year', 'Records', 'Organization type',\n",
       "       'Method', 'Sources'],\n",
       "      dtype='object')"
      ]
     },
     "execution_count": 5,
     "metadata": {},
     "output_type": "execute_result"
    }
   ],
   "source": [
    "df.columns"
   ]
  },
  {
   "cell_type": "markdown",
   "id": "2b852135",
   "metadata": {},
   "source": [
    "### Descrição de colunas numéricas"
   ]
  },
  {
   "cell_type": "code",
   "execution_count": 6,
   "id": "a66eecf3",
   "metadata": {},
   "outputs": [
    {
     "data": {
      "text/html": [
       "<div>\n",
       "<style scoped>\n",
       "    .dataframe tbody tr th:only-of-type {\n",
       "        vertical-align: middle;\n",
       "    }\n",
       "\n",
       "    .dataframe tbody tr th {\n",
       "        vertical-align: top;\n",
       "    }\n",
       "\n",
       "    .dataframe thead th {\n",
       "        text-align: right;\n",
       "    }\n",
       "</style>\n",
       "<table border=\"1\" class=\"dataframe\">\n",
       "  <thead>\n",
       "    <tr style=\"text-align: right;\">\n",
       "      <th></th>\n",
       "      <th>count</th>\n",
       "      <th>mean</th>\n",
       "      <th>std</th>\n",
       "      <th>min</th>\n",
       "      <th>25%</th>\n",
       "      <th>50%</th>\n",
       "      <th>75%</th>\n",
       "      <th>max</th>\n",
       "    </tr>\n",
       "  </thead>\n",
       "  <tbody>\n",
       "    <tr>\n",
       "      <th>Unnamed: 0</th>\n",
       "      <td>352.0</td>\n",
       "      <td>175.5</td>\n",
       "      <td>101.757883</td>\n",
       "      <td>0.0</td>\n",
       "      <td>87.75</td>\n",
       "      <td>175.5</td>\n",
       "      <td>263.25</td>\n",
       "      <td>351.0</td>\n",
       "    </tr>\n",
       "  </tbody>\n",
       "</table>\n",
       "</div>"
      ],
      "text/plain": [
       "            count   mean         std  min    25%    50%     75%    max\n",
       "Unnamed: 0  352.0  175.5  101.757883  0.0  87.75  175.5  263.25  351.0"
      ]
     },
     "execution_count": 6,
     "metadata": {},
     "output_type": "execute_result"
    }
   ],
   "source": [
    "df.describe().transpose()"
   ]
  },
  {
   "cell_type": "markdown",
   "id": "5e8f72cc",
   "metadata": {},
   "source": [
    "### Número de linhas e colunas"
   ]
  },
  {
   "cell_type": "code",
   "execution_count": 7,
   "id": "949f939c",
   "metadata": {},
   "outputs": [
    {
     "data": {
      "text/plain": [
       "(352, 7)"
      ]
     },
     "execution_count": 7,
     "metadata": {},
     "output_type": "execute_result"
    }
   ],
   "source": [
    "df.shape"
   ]
  },
  {
   "cell_type": "markdown",
   "id": "de27f3f5",
   "metadata": {},
   "source": [
    "### Contagem de registros nulos por coluna"
   ]
  },
  {
   "cell_type": "code",
   "execution_count": 8,
   "id": "bbdf8f1f",
   "metadata": {},
   "outputs": [
    {
     "data": {
      "text/plain": [
       "Unnamed: 0           0\n",
       "Entity               0\n",
       "Year                 0\n",
       "Records              2\n",
       "Organization type    0\n",
       "Method               1\n",
       "Sources              2\n",
       "dtype: int64"
      ]
     },
     "execution_count": 8,
     "metadata": {},
     "output_type": "execute_result"
    }
   ],
   "source": [
    "df.isnull().sum()"
   ]
  },
  {
   "cell_type": "markdown",
   "id": "6b4ed6b2",
   "metadata": {},
   "source": [
    "### Número de registros únicos por coluna"
   ]
  },
  {
   "cell_type": "code",
   "execution_count": 9,
   "id": "9cab1dc6",
   "metadata": {},
   "outputs": [
    {
     "data": {
      "text/plain": [
       "Unnamed: 0           352\n",
       "Entity               331\n",
       "Year                  22\n",
       "Records              255\n",
       "Organization type     70\n",
       "Method                25\n",
       "Sources              312\n",
       "dtype: int64"
      ]
     },
     "execution_count": 9,
     "metadata": {},
     "output_type": "execute_result"
    }
   ],
   "source": [
    "df.nunique()"
   ]
  },
  {
   "cell_type": "markdown",
   "id": "f9e8cde0",
   "metadata": {},
   "source": [
    "## Preparando Dados"
   ]
  },
  {
   "cell_type": "markdown",
   "id": "9c70bd71",
   "metadata": {},
   "source": [
    "### Removendo a coluna \"Unnamed: 0\""
   ]
  },
  {
   "cell_type": "code",
   "execution_count": 10,
   "id": "80df2fb7",
   "metadata": {},
   "outputs": [
    {
     "data": {
      "text/plain": [
       "Index(['Entity', 'Year', 'Records', 'Organization type', 'Method', 'Sources'], dtype='object')"
      ]
     },
     "execution_count": 10,
     "metadata": {},
     "output_type": "execute_result"
    }
   ],
   "source": [
    "df = df.drop(columns=[\"Unnamed: 0\"])\n",
    "df.columns"
   ]
  },
  {
   "cell_type": "markdown",
   "id": "6caba36b",
   "metadata": {},
   "source": [
    "### Removendo espaços e convertendo para caracteres minusculos das colunas"
   ]
  },
  {
   "cell_type": "code",
   "execution_count": 11,
   "id": "48baa6a9",
   "metadata": {},
   "outputs": [
    {
     "data": {
      "text/plain": [
       "Index(['entity', 'year', 'records', 'organization_type', 'method', 'sources'], dtype='object')"
      ]
     },
     "execution_count": 11,
     "metadata": {},
     "output_type": "execute_result"
    }
   ],
   "source": [
    "df.columns = [column.lower().replace(\" \", \"_\") for column in df.columns]\n",
    "df.columns"
   ]
  },
  {
   "cell_type": "markdown",
   "id": "072420df",
   "metadata": {},
   "source": [
    "### Verificando valores nulos"
   ]
  },
  {
   "cell_type": "code",
   "execution_count": 12,
   "id": "48767995",
   "metadata": {},
   "outputs": [
    {
     "data": {
      "text/html": [
       "<div>\n",
       "<style scoped>\n",
       "    .dataframe tbody tr th:only-of-type {\n",
       "        vertical-align: middle;\n",
       "    }\n",
       "\n",
       "    .dataframe tbody tr th {\n",
       "        vertical-align: top;\n",
       "    }\n",
       "\n",
       "    .dataframe thead th {\n",
       "        text-align: right;\n",
       "    }\n",
       "</style>\n",
       "<table border=\"1\" class=\"dataframe\">\n",
       "  <thead>\n",
       "    <tr style=\"text-align: right;\">\n",
       "      <th></th>\n",
       "      <th>entity</th>\n",
       "      <th>year</th>\n",
       "      <th>records</th>\n",
       "      <th>organization_type</th>\n",
       "      <th>method</th>\n",
       "      <th>sources</th>\n",
       "    </tr>\n",
       "  </thead>\n",
       "  <tbody>\n",
       "    <tr>\n",
       "      <th>40</th>\n",
       "      <td>Bethesda Game Studios</td>\n",
       "      <td>2018</td>\n",
       "      <td>NaN</td>\n",
       "      <td>gaming</td>\n",
       "      <td>accidentally published</td>\n",
       "      <td>[53]</td>\n",
       "    </tr>\n",
       "    <tr>\n",
       "      <th>69</th>\n",
       "      <td>Philippines Commission on Elections</td>\n",
       "      <td>2016</td>\n",
       "      <td>55000000</td>\n",
       "      <td>government</td>\n",
       "      <td>hacked</td>\n",
       "      <td>NaN</td>\n",
       "    </tr>\n",
       "    <tr>\n",
       "      <th>83</th>\n",
       "      <td>Democratic National Committee</td>\n",
       "      <td>2016</td>\n",
       "      <td>19252</td>\n",
       "      <td>political</td>\n",
       "      <td>NaN</td>\n",
       "      <td>[106]</td>\n",
       "    </tr>\n",
       "    <tr>\n",
       "      <th>192</th>\n",
       "      <td>Mobile TeleSystems (MTS)</td>\n",
       "      <td>2019</td>\n",
       "      <td>100000000</td>\n",
       "      <td>telecommunications</td>\n",
       "      <td>misconfiguration/poor security</td>\n",
       "      <td>NaN</td>\n",
       "    </tr>\n",
       "    <tr>\n",
       "      <th>337</th>\n",
       "      <td>WordPress</td>\n",
       "      <td>2018</td>\n",
       "      <td>NaN</td>\n",
       "      <td>web service</td>\n",
       "      <td>hacked</td>\n",
       "      <td>[392]</td>\n",
       "    </tr>\n",
       "  </tbody>\n",
       "</table>\n",
       "</div>"
      ],
      "text/plain": [
       "                                  entity  year    records   organization_type  \\\n",
       "40                 Bethesda Game Studios  2018        NaN              gaming   \n",
       "69   Philippines Commission on Elections  2016   55000000          government   \n",
       "83         Democratic National Committee  2016      19252           political   \n",
       "192             Mobile TeleSystems (MTS)  2019  100000000  telecommunications   \n",
       "337                            WordPress  2018        NaN         web service   \n",
       "\n",
       "                             method sources  \n",
       "40           accidentally published    [53]  \n",
       "69                           hacked     NaN  \n",
       "83                              NaN   [106]  \n",
       "192  misconfiguration/poor security     NaN  \n",
       "337                          hacked   [392]  "
      ]
     },
     "execution_count": 12,
     "metadata": {},
     "output_type": "execute_result"
    }
   ],
   "source": [
    "df[df.isnull().any(axis=1)]"
   ]
  },
  {
   "cell_type": "markdown",
   "id": "2e489f37",
   "metadata": {},
   "source": [
    "Os valores nulos se dão por ausência de informações. Para um resultado mais preciso, as linhas com os valores nulos são removidas."
   ]
  },
  {
   "cell_type": "code",
   "execution_count": 13,
   "id": "ce48b9d2",
   "metadata": {},
   "outputs": [
    {
     "data": {
      "text/plain": [
       "entity               0\n",
       "year                 0\n",
       "records              0\n",
       "organization_type    0\n",
       "method               0\n",
       "sources              0\n",
       "dtype: int64"
      ]
     },
     "execution_count": 13,
     "metadata": {},
     "output_type": "execute_result"
    }
   ],
   "source": [
    "df = df.dropna()\n",
    "df.isnull().sum()"
   ]
  },
  {
   "cell_type": "markdown",
   "id": "5fb894c4",
   "metadata": {},
   "source": [
    "## Análise Exploratória"
   ]
  },
  {
   "cell_type": "markdown",
   "id": "92771f49",
   "metadata": {},
   "source": [
    "### Univariada"
   ]
  },
  {
   "cell_type": "markdown",
   "id": "27e9b7c5",
   "metadata": {},
   "source": [
    "#### Coluna Entidade"
   ]
  },
  {
   "cell_type": "code",
   "execution_count": 14,
   "id": "4788eede",
   "metadata": {},
   "outputs": [
    {
     "data": {
      "image/png": "[encoded data removed]",
      "text/plain": [
       "<Figure size 960x560 with 1 Axes>"
      ]
     },
     "metadata": {
      "needs_background": "light"
     },
     "output_type": "display_data"
    }
   ],
   "source": [
    "# Definindo x e y\n",
    "\n",
    "temp_df = df['entity'].value_counts().reset_index()\n",
    "temp_df = temp_df[temp_df['entity']>1].rename(columns={'index': 'entidade', 'entity': 'contagem'})\n",
    "\n",
    "others = {\n",
    "    'entidade': ['Outras'],\n",
    "    'contagem' : [df['entity'].value_counts().sum() - temp_df['contagem'].sum()]\n",
    "}\n",
    "\n",
    "new_df = pd.concat([temp_df,pd.DataFrame.from_dict(others)]).sort_values(by='contagem')\n",
    "\n",
    "y = new_df['entidade']\n",
    "width = new_df['contagem']\n",
    "\n",
    "# Definindo subplot\n",
    "fig, ax = plt.subplots(figsize=(12,7), dpi=80)\n",
    "\n",
    "# Grafico de barras horizontal\n",
    "plt.barh(y, width, color='firebrick')\n",
    "\n",
    "# Título e etiquetas do gráfico\n",
    "plt.title('Contagem de Violações de Dados por Entidades que Contabilizam Duas ou Mais Violações')\n",
    "plt.xlabel('Contagem de Violações de Dados')\n",
    "plt.ylabel('Entidade')\n",
    "\n",
    "# Grade\n",
    "ax.set_axisbelow(True)\n",
    "plt.grid(linestyle='dashed', color='lightgrey')\n",
    "\n",
    "# Etiqueta das barras\n",
    "ax.bar_label(ax.containers[0], label_type='edge')\n",
    "\n",
    "# Exibição\n",
    "plt.show()"
   ]
  },
  {
   "cell_type": "markdown",
   "id": "9c3eeab3",
   "metadata": {},
   "source": [
    "Considerações\n",
    "* As 347 violações de dados se dividem entre as 327 entidades distintas existentes neste conjunto de dados;\n",
    "* A entidade Facebook lidera o gráfico com 5 violações de dados distintas;\n",
    "* Das 327 entidades, 15 delas possuem duas ou mais violações de dados que é igual a 4,58%;\n",
    "* As 15 entidades com duas ou mais violações de dados somam 35 violações, representando 10,08% do total."
   ]
  },
  {
   "cell_type": "markdown",
   "id": "f8b73f51",
   "metadata": {},
   "source": [
    "#### Coluna Ano"
   ]
  },
  {
   "cell_type": "code",
   "execution_count": 56,
   "id": "681f4617",
   "metadata": {},
   "outputs": [
    {
     "data": {
      "text/html": [
       "<div>\n",
       "<style scoped>\n",
       "    .dataframe tbody tr th:only-of-type {\n",
       "        vertical-align: middle;\n",
       "    }\n",
       "\n",
       "    .dataframe tbody tr th {\n",
       "        vertical-align: top;\n",
       "    }\n",
       "\n",
       "    .dataframe thead th {\n",
       "        text-align: right;\n",
       "    }\n",
       "</style>\n",
       "<table border=\"1\" class=\"dataframe\">\n",
       "  <thead>\n",
       "    <tr style=\"text-align: right;\">\n",
       "      <th></th>\n",
       "      <th>ano</th>\n",
       "      <th>contagem</th>\n",
       "    </tr>\n",
       "  </thead>\n",
       "  <tbody>\n",
       "    <tr>\n",
       "      <th>0</th>\n",
       "      <td>2011</td>\n",
       "      <td>34</td>\n",
       "    </tr>\n",
       "    <tr>\n",
       "      <th>1</th>\n",
       "      <td>2020</td>\n",
       "      <td>31</td>\n",
       "    </tr>\n",
       "    <tr>\n",
       "      <th>2</th>\n",
       "      <td>2019</td>\n",
       "      <td>29</td>\n",
       "    </tr>\n",
       "    <tr>\n",
       "      <th>3</th>\n",
       "      <td>2015</td>\n",
       "      <td>28</td>\n",
       "    </tr>\n",
       "    <tr>\n",
       "      <th>4</th>\n",
       "      <td>2013</td>\n",
       "      <td>28</td>\n",
       "    </tr>\n",
       "    <tr>\n",
       "      <th>5</th>\n",
       "      <td>2014</td>\n",
       "      <td>25</td>\n",
       "    </tr>\n",
       "    <tr>\n",
       "      <th>6</th>\n",
       "      <td>2018</td>\n",
       "      <td>24</td>\n",
       "    </tr>\n",
       "    <tr>\n",
       "      <th>7</th>\n",
       "      <td>2012</td>\n",
       "      <td>23</td>\n",
       "    </tr>\n",
       "    <tr>\n",
       "      <th>8</th>\n",
       "      <td>2016</td>\n",
       "      <td>20</td>\n",
       "    </tr>\n",
       "    <tr>\n",
       "      <th>9</th>\n",
       "      <td>2010</td>\n",
       "      <td>19</td>\n",
       "    </tr>\n",
       "    <tr>\n",
       "      <th>10</th>\n",
       "      <td>2008</td>\n",
       "      <td>16</td>\n",
       "    </tr>\n",
       "    <tr>\n",
       "      <th>11</th>\n",
       "      <td>2021</td>\n",
       "      <td>13</td>\n",
       "    </tr>\n",
       "    <tr>\n",
       "      <th>12</th>\n",
       "      <td>2009</td>\n",
       "      <td>13</td>\n",
       "    </tr>\n",
       "    <tr>\n",
       "      <th>13</th>\n",
       "      <td>2007</td>\n",
       "      <td>12</td>\n",
       "    </tr>\n",
       "    <tr>\n",
       "      <th>14</th>\n",
       "      <td>2017</td>\n",
       "      <td>9</td>\n",
       "    </tr>\n",
       "    <tr>\n",
       "      <th>15</th>\n",
       "      <td>2006</td>\n",
       "      <td>7</td>\n",
       "    </tr>\n",
       "    <tr>\n",
       "      <th>16</th>\n",
       "      <td>2005</td>\n",
       "      <td>6</td>\n",
       "    </tr>\n",
       "    <tr>\n",
       "      <th>17</th>\n",
       "      <td>2022</td>\n",
       "      <td>5</td>\n",
       "    </tr>\n",
       "    <tr>\n",
       "      <th>18</th>\n",
       "      <td>2004</td>\n",
       "      <td>2</td>\n",
       "    </tr>\n",
       "    <tr>\n",
       "      <th>19</th>\n",
       "      <td>2019-2020</td>\n",
       "      <td>1</td>\n",
       "    </tr>\n",
       "    <tr>\n",
       "      <th>20</th>\n",
       "      <td>2018-2019</td>\n",
       "      <td>1</td>\n",
       "    </tr>\n",
       "    <tr>\n",
       "      <th>21</th>\n",
       "      <td>2014 and 2015</td>\n",
       "      <td>1</td>\n",
       "    </tr>\n",
       "  </tbody>\n",
       "</table>\n",
       "</div>"
      ],
      "text/plain": [
       "              ano  contagem\n",
       "0            2011        34\n",
       "1            2020        31\n",
       "2            2019        29\n",
       "3            2015        28\n",
       "4            2013        28\n",
       "5            2014        25\n",
       "6            2018        24\n",
       "7            2012        23\n",
       "8            2016        20\n",
       "9            2010        19\n",
       "10           2008        16\n",
       "11           2021        13\n",
       "12           2009        13\n",
       "13           2007        12\n",
       "14           2017         9\n",
       "15           2006         7\n",
       "16           2005         6\n",
       "17           2022         5\n",
       "18           2004         2\n",
       "19      2019-2020         1\n",
       "20      2018-2019         1\n",
       "21  2014 and 2015         1"
      ]
     },
     "execution_count": 56,
     "metadata": {},
     "output_type": "execute_result"
    }
   ],
   "source": [
    "temp_df = df['year'].value_counts().reset_index().rename(columns={'index': 'ano', 'year': 'contagem'})\n",
    "temp_df"
   ]
  },
  {
   "cell_type": "code",
   "execution_count": 57,
   "id": "3be3c62b",
   "metadata": {
    "scrolled": false
   },
   "outputs": [
    {
     "data": {
      "image/png": "[encoded data removed]",
      "text/plain": [
       "<Figure size 960x400 with 1 Axes>"
      ]
     },
     "metadata": {
      "needs_background": "light"
     },
     "output_type": "display_data"
    }
   ],
   "source": [
    "# Para uma melhor visualização, as violações onde ocorreram em mais de um ano são removidas e é acrescentado\n",
    "# uma unidade a contagem do ano final da violação\n",
    "\n",
    "index_list = []\n",
    "year_list = []\n",
    "\n",
    "for index,ano in zip(range(len(temp_df['ano'])), temp_df['ano']):\n",
    "    if len(ano)>4:\n",
    "        index_list.append(index)\n",
    "        year_list.append(ano[-4:])\n",
    "        \n",
    "for year in year_list:\n",
    "    # Adiciona uma unidade ao ano corrente\n",
    "    temp_df.loc[temp_df['ano'] == year,'contagem'] = temp_df[temp_df['ano'] == year]['contagem'] + 1\n",
    "\n",
    "# Remove os anos concatenados\n",
    "new_df = temp_df.drop(index_list).sort_values('ano')\n",
    "\n",
    "# Define os valores de X e Y\n",
    "x = new_df['ano']\n",
    "y = new_df['contagem']\n",
    "\n",
    "# Definindo subplot\n",
    "fig, ax = plt.subplots(figsize=(12,5), dpi=80)\n",
    "\n",
    "# Grafico de barras horizontal\n",
    "plt.plot(x, y, marker='o', color='firebrick')\n",
    "\n",
    "# Título e etiquetas do gráfico\n",
    "plt.title('Contagem de Violações de Dados ao Longo dos Anos')\n",
    "plt.xlabel('Ano')\n",
    "plt.ylabel('Contagem de Violações')\n",
    "\n",
    "# Grade\n",
    "ax.set_axisbelow(True)\n",
    "plt.grid(linestyle='dashed', color='lightgrey')\n",
    "\n",
    "# Etiqueta das Linhas\n",
    "for x,y in zip(x,y):\n",
    "    plt.annotate(y,(x,y),textcoords=\"offset points\",xytext=(0,4),ha='center')\n",
    "\n",
    "# Exibição\n",
    "plt.show()"
   ]
  },
  {
   "cell_type": "markdown",
   "id": "bae2e0eb",
   "metadata": {},
   "source": [
    "Considerações\n",
    "* É possível verificar um aumento significativo na quantidade de violações ao longo dos anos, e este fato se dá em detrimento da evolução tecnológica e da informatização de sistemas;\n",
    "* Também é possível verificar que, nos anos atuais, o número de violações diminui pois as entidades investem em ciber-segurança ao verificarem o valor que os dados oferecem; \n",
    "* Neste conjunto de dados, 2011 foi o ano de maior número de violações de dados, aproximadamente 9,79% do número total de violações, seguido de 2020 com 9,22% e 2019 com 8,64%."
   ]
  },
  {
   "cell_type": "markdown",
   "id": "27ee92bf",
   "metadata": {},
   "source": [
    "#### Coluna Registros"
   ]
  },
  {
   "cell_type": "code",
   "execution_count": 17,
   "id": "dfeec23a",
   "metadata": {},
   "outputs": [
    {
     "data": {
      "text/plain": [
       "unknown          21\n",
       "1500000           7\n",
       "1000000           6\n",
       "500000            6\n",
       "160000            4\n",
       "                 ..\n",
       "283000            1\n",
       "250 locations     1\n",
       "92000000          1\n",
       "80000000          1\n",
       "95000             1\n",
       "Name: records, Length: 253, dtype: int64"
      ]
     },
     "execution_count": 17,
     "metadata": {},
     "output_type": "execute_result"
    }
   ],
   "source": [
    "df['records'].value_counts()"
   ]
  },
  {
   "cell_type": "markdown",
   "id": "de7bb24b",
   "metadata": {},
   "source": [
    "Para a realização de uma análise numérica, qualquer valor que seja impossibilitado de realizar conversão para int é desconsiderado."
   ]
  },
  {
   "cell_type": "code",
   "execution_count": 79,
   "id": "4c93030a",
   "metadata": {},
   "outputs": [
    {
     "data": {
      "image/png": "[encoded data removed]",
      "text/plain": [
       "<Figure size 1120x560 with 2 Axes>"
      ]
     },
     "metadata": {
      "needs_background": "light"
     },
     "output_type": "display_data"
    }
   ],
   "source": [
    "index_list = []\n",
    "temp_df = df['records'].value_counts().reset_index()['index']\n",
    "for index, value in zip(range(len(temp_df)), temp_df):\n",
    "    try:\n",
    "        int(value)\n",
    "    except:\n",
    "        index_list.append(index)\n",
    "\n",
    "new_df = temp_df.drop(index_list).astype('int64')\n",
    "\n",
    "# Definindo subplots\n",
    "fig, ax = plt.subplots(1,2, figsize=(14,7), dpi=80)\n",
    "\n",
    "# Histograma\n",
    "ax[0].ticklabel_format(axis='both',style='plain')\n",
    "ax[0].hist(new_df, bins=50, orientation='horizontal')\n",
    "ax[0].set_title(\"Distribuição Histograma\")\n",
    "ax[0].set_axisbelow(True)\n",
    "ax[0].grid(linestyle='dashed', color='lightgrey')\n",
    "\n",
    "# Boxplot\n",
    "ax[1].ticklabel_format(axis='both',style='plain')\n",
    "ax[1].boxplot(new_df)\n",
    "ax[1].set_title(\"Distribuição Boxplot\")\n",
    "ax[1].set_axisbelow(True)\n",
    "ax[1].grid(linestyle='dashed', color='lightgrey')\n",
    "\n",
    "# Exibição\n",
    "plt.show()"
   ]
  }
 ],
 "metadata": {
  "kernelspec": {
   "display_name": "Python 3 (ipykernel)",
   "language": "python",
   "name": "python3"
  },
  "language_info": {
   "codemirror_mode": {
    "name": "ipython",
    "version": 3
   },
   "file_extension": ".py",
   "mimetype": "text/x-python",
   "name": "python",
   "nbconvert_exporter": "python",
   "pygments_lexer": "ipython3",
   "version": "3.9.12"
  }
 },
 "nbformat": 4,
 "nbformat_minor": 5
}
